{
 "cells": [
  {
   "cell_type": "code",
   "execution_count": 1,
   "metadata": {},
   "outputs": [
    {
     "name": "stdout",
     "output_type": "stream",
     "text": [
      "Requirement already satisfied: pandas in c:\\programdata\\anaconda3\\lib\\site-packages (1.3.4)\n",
      "Requirement already satisfied: pytz>=2017.3 in c:\\programdata\\anaconda3\\lib\\site-packages (from pandas) (2021.3)\n",
      "Requirement already satisfied: python-dateutil>=2.7.3 in c:\\programdata\\anaconda3\\lib\\site-packages (from pandas) (2.8.2)\n",
      "Requirement already satisfied: numpy>=1.17.3 in c:\\programdata\\anaconda3\\lib\\site-packages (from pandas) (1.20.3)\n",
      "Requirement already satisfied: six>=1.5 in c:\\programdata\\anaconda3\\lib\\site-packages (from python-dateutil>=2.7.3->pandas) (1.16.0)\n",
      "Requirement already satisfied: matplotlib in c:\\programdata\\anaconda3\\lib\\site-packages (3.4.3)\n",
      "Requirement already satisfied: pyparsing>=2.2.1 in c:\\programdata\\anaconda3\\lib\\site-packages (from matplotlib) (3.0.4)\n",
      "Requirement already satisfied: kiwisolver>=1.0.1 in c:\\programdata\\anaconda3\\lib\\site-packages (from matplotlib) (1.3.1)\n",
      "Requirement already satisfied: cycler>=0.10 in c:\\programdata\\anaconda3\\lib\\site-packages (from matplotlib) (0.10.0)\n",
      "Requirement already satisfied: numpy>=1.16 in c:\\programdata\\anaconda3\\lib\\site-packages (from matplotlib) (1.20.3)\n",
      "Requirement already satisfied: pillow>=6.2.0 in c:\\programdata\\anaconda3\\lib\\site-packages (from matplotlib) (8.4.0)\n",
      "Requirement already satisfied: python-dateutil>=2.7 in c:\\programdata\\anaconda3\\lib\\site-packages (from matplotlib) (2.8.2)\n",
      "Requirement already satisfied: six in c:\\programdata\\anaconda3\\lib\\site-packages (from cycler>=0.10->matplotlib) (1.16.0)\n"
     ]
    }
   ],
   "source": [
    "!pip install pandas\n",
    "!pip install matplotlib"
   ]
  },
  {
   "cell_type": "markdown",
   "metadata": {
    "id": "vxjm8bXbL9Wv"
   },
   "source": [
    "# **Lab report: Freely Falling object**\n",
    "\n",
    "**Introduction**\n",
    "\n",
    "Free falling is the linear motion of an object in which only the force of gravity is acting on the object, expressed as the weight of the object. With Python makes it easier and faster to solve physic problems like the acceleration of a free falling object. \n",
    "\n",
    "**Objective**\n",
    "\n",
    "1. Presenting and plotting a physical experiment using the Python programming \n",
    "language.\n",
    "2. find the gravity acceleration for free falling object.\n",
    "3. learn new things about python and work on it\n",
    "\n",
    "\n"
   ]
  },
  {
   "cell_type": "markdown",
   "metadata": {
    "id": "kvdkz4vCNjDL"
   },
   "source": [
    "## Installing necessary libraries"
   ]
  },
  {
   "cell_type": "code",
   "execution_count": 2,
   "metadata": {
    "id": "6282jlQmNRZm"
   },
   "outputs": [],
   "source": [
    "from IPython.display import HTML ,Image\n",
    "import pandas as pd\n",
    "import matplotlib.pyplot as plt"
   ]
  },
  {
   "cell_type": "code",
   "execution_count": 4,
   "metadata": {},
   "outputs": [
    {
     "data": {
      "text/plain": [
       "'C:\\\\Users\\\\Basheer'"
      ]
     },
     "execution_count": 4,
     "metadata": {},
     "output_type": "execute_result"
    }
   ],
   "source": [
    "import os\n",
    "os.getcwd()"
   ]
  },
  {
   "cell_type": "code",
   "execution_count": 6,
   "metadata": {
    "colab": {
     "base_uri": "https://localhost:8080/",
     "height": 1000
    },
    "id": "PefCDJkVNyhc",
    "outputId": "4a7c23a5-dab3-4246-c33f-d1e22038a7c6"
   },
   "outputs": [
    {
     "data": {
      "text/html": [
       "<h1 style=\"font-size:22px; color:brown;\">Freely Falling object</h1><h2 style=\"font-size: 18px; color: goldenrod; margin-bottom: 10px;\">Introduction</h2><p style=\"font-size: 16px; color: dodgerblue;\">A free falling object is an object that is falling under the sole influence of gravity.         Any object that is being acted upon only by the force of gravity is said to be in a state of free fall.      </p><p style=\"font-size: 16px; color: green;\">There are two important motion characteristics that are true of free-falling objects:</p>\n",
       "  <ol>\n",
       "    <li style=\"color: #5a3c78;\">Free-falling objects do not encounter air resistance.</li>\n",
       "    <li style=\"color: #5a3c78;\">\n",
       "        All free-falling objects (on Earth) accelerate downwards at a rate of <code>9.8m/s</code>.\n",
       "        <br />\n",
       "        (Often approximated as <code>10m/s</code> for back-of-the-envelope calculations.)\n",
       "    </li>\n",
       "  </ol>\n",
       "<h2 style=\"font-size: 18px; color: goldenrod; margin-bottom: 10px;\">The Slope: </h2>  <p style=\"color: #5a3c78; position: relative;\">    Slope of the graph <code>T&sup2;(s&sup2;)</code> versus <code>h(m)</code>: <br />    Points = (0.649,0.14),(0.294,0.6) <br />    slope forumla = (y2-y1) / (x2-x1) <br />     slop = -1.2957746478873238  </p><br />   <p style=\"color: red;\">From the slope value find the gravity acceleration value: </p><p style=\"color: gray;\">gravity acceleration =  -1.2957746478873238</p><p style=\"color: tomato;\">the experimental error for the following measurements :</p><p style=\"color: dodgerblue;\">Smart time (+0.005 ,-0.005) mes , micrometer percentage error (+0.005 ,-0.005) mm</p><p>How does your value for ‘g’ compare to the accepted value of the acceleration of a free- falling object (9.81 m/s&sup2;) ?</p><p>If the mass of the ball is increased, what will be the value of g?</p><p>It's will be <strong><i>constant</i></strong>.</p>"
      ],
      "text/plain": [
       "<IPython.core.display.HTML object>"
      ]
     },
     "metadata": {},
     "output_type": "display_data"
    },
    {
     "data": {
      "image/gif": "[encoded data removed]",
      "text/plain": [
       "<IPython.core.display.Image object>"
      ]
     },
     "metadata": {},
     "output_type": "display_data"
    },
    {
     "data": {
      "image/gif": "[encoded data removed]",
      "text/plain": [
       "<IPython.core.display.Image object>"
      ]
     },
     "metadata": {},
     "output_type": "display_data"
    }
   ],
   "source": [
    "html = ''\n",
    "\n",
    "heading = '<h1 style=\"font-size:22px; color:brown;\">Freely Falling object</h1>'\n",
    "html += heading\n",
    "\n",
    "sub_heading = '<h2 style=\"font-size: 18px; color: goldenrod; margin-bottom: 10px;\">Introduction</h2>'\n",
    "html += sub_heading\n",
    "\n",
    "p1 = '<p style=\"font-size: 16px; color: dodgerblue;\">A free falling object is an object that is falling under the sole influence of gravity. \\\n",
    "        Any object that is being acted upon only by the force of gravity is said to be in a state of free fall.\\\n",
    "      </p>'\n",
    "html += p1\n",
    "\n",
    "p2 = '<p style=\"font-size: 16px; color: green;\">There are two important motion characteristics that are true of free-falling objects:</p>'\n",
    "html += p2;\n",
    "\n",
    "ol = '''\n",
    "  <ol>\n",
    "    <li style=\"color: #5a3c78;\">Free-falling objects do not encounter air resistance.</li>\n",
    "    <li style=\"color: #5a3c78;\">\n",
    "        All free-falling objects (on Earth) accelerate downwards at a rate of <code>9.8m/s</code>.\n",
    "        <br />\n",
    "        (Often approximated as <code>10m/s</code> for back-of-the-envelope calculations.)\n",
    "    </li>\n",
    "  </ol>\n",
    "'''\n",
    "\n",
    "html += ol\n",
    "\n",
    "\n",
    "\n",
    "sub_heading2 = '<h2 style=\"font-size: 18px; color: goldenrod; margin-bottom: 10px;\">The Slope: </h2>'\n",
    "html += sub_heading2\n",
    "\n",
    "\n",
    "point1 = {}\n",
    "point1[\"x\"] = 0.649\n",
    "point1[\"y\"] = 0.14\n",
    "point2 = {}\n",
    "point2[\"x\"] = 0.294\n",
    "point2[\"y\"] = 0.6\n",
    "\n",
    "slop = (point2[\"y\"]-point1[\"y\"])/(point2[\"x\"]-point1[\"x\"])\n",
    "\n",
    "p3 = f'\\\n",
    "  <p style=\"color: #5a3c78; position: relative;\">\\\n",
    "    Slope of the graph <code>T&sup2;(s&sup2;)</code> versus <code>h(m)</code>: <br />\\\n",
    "    Points = ({point1[\"x\"]},{point1[\"y\"]}),({point2[\"x\"]},{point2[\"y\"]}) <br />\\\n",
    "    slope forumla = (y2-y1) / (x2-x1) <br /> \\\n",
    "    slop = {slop}\\\n",
    "  </p><br /> \\\n",
    "  '\n",
    "html += p3\n",
    "\n",
    "p4 = '<p style=\"color: red;\">From the slope value find the gravity acceleration value: </p>'\n",
    "html += p4\n",
    "\n",
    "p5 = f'<p style=\"color: gray;\">gravity acceleration =  {slop}</p>'\n",
    "html += p5\n",
    "\n",
    "p6 = '<p style=\"color: tomato;\">the experimental error for the following measurements :</p>'\n",
    "html += p6\n",
    "\n",
    "p7 = '<p style=\"color: dodgerblue;\">Smart time (+0.005 ,-0.005) mes , micrometer percentage error (+0.005 ,-0.005) mm</p>'\n",
    "html += p7\n",
    "\n",
    "\n",
    "p8 = '<p>How does your value for ‘g’ compare to the accepted value of the acceleration of a free- falling object (9.81 m/s&sup2;) ?</p>'\n",
    "html += p8\n",
    "\n",
    "p9 = '<p>If the mass of the ball is increased, what will be the value of g?</p>'\n",
    "html += p9\n",
    "\n",
    "p9 = '<p>It\\'s will be <strong><i>constant</i></strong>.</p>'\n",
    "html += p9\n",
    "\n",
    "# Specify the paths or URLs to the GIF files\n",
    "gif_path1 = '.\\\\Picture1.gif'\n",
    "gif_path2 = '.\\\\Picture2.gif'\n",
    "\n",
    "# Create Image instances for the GIFs\n",
    "image1 = Image(filename=gif_path1, format='gif')\n",
    "image2 = Image(filename=gif_path2, format='gif')\n",
    "\n",
    "display(HTML(html))\n",
    "\n",
    "\n",
    "# Display the GIFs\n",
    "display(image1)\n",
    "display(image2)\n"
   ]
  },
  {
   "cell_type": "code",
   "execution_count": 7,
   "metadata": {
    "id": "z5_g9p0KsRII"
   },
   "outputs": [],
   "source": [
    "data = {\n",
    "    'D(mm)': [11.95],\n",
    "    'r(mm)': [5.975]\n",
    "}\n",
    "\n",
    "df1 = pd.DataFrame(data)\n",
    "\n",
    "# Convert 'r(mm)' to 'r(m)' by dividing by 1000\n",
    "df1['r(m)'] = df1['r(mm)'] / 1000\n"
   ]
  },
  {
   "cell_type": "code",
   "execution_count": 8,
   "metadata": {
    "colab": {
     "base_uri": "https://localhost:8080/",
     "height": 81
    },
    "id": "U5N2iQEE0ONM",
    "outputId": "ae81b768-f34c-4675-b914-5ac04d786c94"
   },
   "outputs": [
    {
     "data": {
      "text/html": [
       "<div>\n",
       "<style scoped>\n",
       "    .dataframe tbody tr th:only-of-type {\n",
       "        vertical-align: middle;\n",
       "    }\n",
       "\n",
       "    .dataframe tbody tr th {\n",
       "        vertical-align: top;\n",
       "    }\n",
       "\n",
       "    .dataframe thead th {\n",
       "        text-align: right;\n",
       "    }\n",
       "</style>\n",
       "<table border=\"1\" class=\"dataframe\">\n",
       "  <thead>\n",
       "    <tr style=\"text-align: right;\">\n",
       "      <th></th>\n",
       "      <th>D(mm)</th>\n",
       "      <th>r(mm)</th>\n",
       "      <th>r(m)</th>\n",
       "    </tr>\n",
       "  </thead>\n",
       "  <tbody>\n",
       "    <tr>\n",
       "      <th>0</th>\n",
       "      <td>11.95</td>\n",
       "      <td>5.975</td>\n",
       "      <td>0.005975</td>\n",
       "    </tr>\n",
       "  </tbody>\n",
       "</table>\n",
       "</div>"
      ],
      "text/plain": [
       "   D(mm)  r(mm)      r(m)\n",
       "0  11.95  5.975  0.005975"
      ]
     },
     "execution_count": 8,
     "metadata": {},
     "output_type": "execute_result"
    }
   ],
   "source": [
    "df1"
   ]
  },
  {
   "cell_type": "code",
   "execution_count": 9,
   "metadata": {
    "id": "vnBsVFJDJviG"
   },
   "outputs": [],
   "source": [
    "# Read the CSV file into a DataFrame\n",
    "df = pd.read_csv('.\\\\table.csv')\n",
    "\n",
    "# Add column 'h(m)' by dividing 'h(cm)' by 100\n",
    "df['h(m)'] = df['h(cm)'] / 100\n",
    "\n",
    "# Extract the value from df1['r(m)']\n",
    "r_m_value = df1['r(m)'].values[0]\n",
    "\n",
    "# Subtract 'h(m)' from 'r(m)' and assign it to 'h-r(m)' column\n",
    "df['h-r(m)'] = df['h(m)'] - r_m_value\n",
    "\n",
    "# Calculate the average of 'T1(msec)' and 'T2(msec)' and store it in 'T(mes)'\n",
    "df['T(mes)'] = (df['T1(msec)'] + df['T2(msec)']) / 2\n",
    "\n",
    "# Add column 'T(sec)' by dividing 'T(mes)' by 1000 to convert from milliseconds to seconds\n",
    "df['T(sec)'] = df['T(mes)'] / 1000\n",
    "\n",
    "# Add column 'T^2(sec^2)' by squaring 'T(sec)'\n",
    "df['T^2(sec^2)'] = df['T(sec)'] ** 2"
   ]
  },
  {
   "cell_type": "code",
   "execution_count": 10,
   "metadata": {
    "colab": {
     "base_uri": "https://localhost:8080/",
     "height": 206
    },
    "id": "IxBj48FpLekC",
    "outputId": "e1d5dad0-76e2-41c6-a993-a202bddd4b78"
   },
   "outputs": [
    {
     "data": {
      "text/html": [
       "<div>\n",
       "<style scoped>\n",
       "    .dataframe tbody tr th:only-of-type {\n",
       "        vertical-align: middle;\n",
       "    }\n",
       "\n",
       "    .dataframe tbody tr th {\n",
       "        vertical-align: top;\n",
       "    }\n",
       "\n",
       "    .dataframe thead th {\n",
       "        text-align: right;\n",
       "    }\n",
       "</style>\n",
       "<table border=\"1\" class=\"dataframe\">\n",
       "  <thead>\n",
       "    <tr style=\"text-align: right;\">\n",
       "      <th></th>\n",
       "      <th>h(cm)</th>\n",
       "      <th>T1(msec)</th>\n",
       "      <th>T2(msec)</th>\n",
       "      <th>h(m)</th>\n",
       "      <th>h-r(m)</th>\n",
       "      <th>T(mes)</th>\n",
       "      <th>T(sec)</th>\n",
       "      <th>T^2(sec^2)</th>\n",
       "    </tr>\n",
       "  </thead>\n",
       "  <tbody>\n",
       "    <tr>\n",
       "      <th>0</th>\n",
       "      <td>70</td>\n",
       "      <td>374.38</td>\n",
       "      <td>372.95</td>\n",
       "      <td>0.7</td>\n",
       "      <td>0.694025</td>\n",
       "      <td>373.665</td>\n",
       "      <td>0.373665</td>\n",
       "      <td>0.139626</td>\n",
       "    </tr>\n",
       "    <tr>\n",
       "      <th>1</th>\n",
       "      <td>60</td>\n",
       "      <td>345.03</td>\n",
       "      <td>346.44</td>\n",
       "      <td>0.6</td>\n",
       "      <td>0.594025</td>\n",
       "      <td>345.735</td>\n",
       "      <td>0.345735</td>\n",
       "      <td>0.119533</td>\n",
       "    </tr>\n",
       "    <tr>\n",
       "      <th>2</th>\n",
       "      <td>50</td>\n",
       "      <td>313.37</td>\n",
       "      <td>313.45</td>\n",
       "      <td>0.5</td>\n",
       "      <td>0.494025</td>\n",
       "      <td>313.410</td>\n",
       "      <td>0.313410</td>\n",
       "      <td>0.098226</td>\n",
       "    </tr>\n",
       "    <tr>\n",
       "      <th>3</th>\n",
       "      <td>40</td>\n",
       "      <td>280.48</td>\n",
       "      <td>282.80</td>\n",
       "      <td>0.4</td>\n",
       "      <td>0.394025</td>\n",
       "      <td>281.640</td>\n",
       "      <td>0.281640</td>\n",
       "      <td>0.079321</td>\n",
       "    </tr>\n",
       "    <tr>\n",
       "      <th>4</th>\n",
       "      <td>30</td>\n",
       "      <td>239.11</td>\n",
       "      <td>240.81</td>\n",
       "      <td>0.3</td>\n",
       "      <td>0.294025</td>\n",
       "      <td>239.960</td>\n",
       "      <td>0.239960</td>\n",
       "      <td>0.057581</td>\n",
       "    </tr>\n",
       "  </tbody>\n",
       "</table>\n",
       "</div>"
      ],
      "text/plain": [
       "   h(cm)  T1(msec)  T2(msec)  h(m)    h-r(m)   T(mes)    T(sec)  T^2(sec^2)\n",
       "0     70    374.38    372.95   0.7  0.694025  373.665  0.373665    0.139626\n",
       "1     60    345.03    346.44   0.6  0.594025  345.735  0.345735    0.119533\n",
       "2     50    313.37    313.45   0.5  0.494025  313.410  0.313410    0.098226\n",
       "3     40    280.48    282.80   0.4  0.394025  281.640  0.281640    0.079321\n",
       "4     30    239.11    240.81   0.3  0.294025  239.960  0.239960    0.057581"
      ]
     },
     "execution_count": 10,
     "metadata": {},
     "output_type": "execute_result"
    }
   ],
   "source": [
    "df"
   ]
  },
  {
   "cell_type": "code",
   "execution_count": null,
   "metadata": {
    "colab": {
     "base_uri": "https://localhost:8080/",
     "height": 472
    },
    "id": "wy--O7Vd3yks",
    "outputId": "a004062e-d65c-44ec-f8fd-162694460198"
   },
   "outputs": [
    {
     "data": {
      "image/png": "[encoded data removed]",
      "text/plain": [
       "<Figure size 640x480 with 1 Axes>"
      ]
     },
     "metadata": {},
     "output_type": "display_data"
    }
   ],
   "source": [
    "# Plot 'h-r(m)' against 'T2'\n",
    "plt.plot(df['h-r(m)'], df['T2(msec)'], marker='o', linestyle='-', color='blue')\n",
    "\n",
    "# Set the axis labels\n",
    "plt.xlabel('h-r(m)')\n",
    "plt.ylabel('T2(msec)')\n",
    "\n",
    "# Set the title\n",
    "plt.title('Plot of h-r(m) vs. T2')\n",
    "\n",
    "# Display the plot\n",
    "plt.show()"
   ]
  }
 ],
 "metadata": {
  "colab": {
   "provenance": []
  },
  "kernelspec": {
   "display_name": "Python 3 (ipykernel)",
   "language": "python",
   "name": "python3"
  },
  "language_info": {
   "codemirror_mode": {
    "name": "ipython",
    "version": 3
   },
   "file_extension": ".py",
   "mimetype": "text/x-python",
   "name": "python",
   "nbconvert_exporter": "python",
   "pygments_lexer": "ipython3",
   "version": "3.9.7"
  }
 },
 "nbformat": 4,
 "nbformat_minor": 1
}
